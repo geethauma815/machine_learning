{
 "cells": [
  {
   "cell_type": "markdown",
   "id": "41969160-8e48-4a06-829a-773d66ff199f",
   "metadata": {},
   "source": [
    "Decision tree learning is a powerful method for inductive inference, capable of handling noisy data and learning disjunctive expressions. Algorithms like ID3, ASSISTANT, and C4.5 explore a fully expressive hypothesis space, preferring smaller trees for better generalization."
   ]
  },
  {
   "cell_type": "markdown",
   "id": "f72330eb-9055-40bc-bf4c-c4bca18b0f07",
   "metadata": {},
   "source": [
    "# 1. INTRODUCTION"
   ]
  },
  {
   "cell_type": "markdown",
   "id": "1454ef4f-b008-47fe-8855-8a968634cdb4",
   "metadata": {},
   "source": [
    "Decision tree learning approximates discrete-valued target functions by representing the learned function as a decision tree. These trees can be converted into if-then rules for better readability. Widely used in inductive inference, decision trees have been successfully applied to tasks like medical diagnosis and credit risk assessment."
   ]
  },
  {
   "cell_type": "markdown",
   "id": "0f995486-d528-4b73-824b-4c1e847acea8",
   "metadata": {},
   "source": [
    "# 2. DECISION TREE REPRESENTATION"
   ]
  },
  {
   "cell_type": "markdown",
   "id": "fc29dc99-b1e4-4b96-af0d-10c83b534b97",
   "metadata": {},
   "source": [
    "Decision trees classify instances by sorting them from the root to a leaf node, where the final classification is assigned. Each node tests an attribute, and branches represent possible attribute values. The classification process continues recursively until a leaf is reached.\n",
    "For example, a decision tree for PlayTennis determines if a Saturday morning is suitable for playing tennis based on conditions like Outlook, Temperature, Humidity, and Wind. An instance (Sunny, Hot, High Humidity, Strong Wind) would follow the tree’s leftmost path and be classified as No (not suitable for tennis).\n",
    "\n",
    "Decision trees represent a disjunction of conjunctions, meaning each path from root to leaf forms a conjunction of attribute tests, and the tree itself is a disjunction of these conditions. The PlayTennis decision tree can be expressed as:\n",
    "$ (Outlook = Sunny \\land Humidity = Normal) \\vee (Outlook = Overcast) \\vee (Outlook = Rain \\land Wind = Weak) $"
   ]
  },
  {
   "cell_type": "markdown",
   "id": "0ca65654-cedc-4bc2-9bb0-b1c0821decd6",
   "metadata": {},
   "source": [
    "# 3. APPROPRIATE PROBLEMS FOR DECISION TREE LEARNING"
   ]
  },
  {
   "cell_type": "markdown",
   "id": "2a9faa4d-6042-44d9-848c-78811f9315dd",
   "metadata": {},
   "source": [
    "Decision tree learning is best suited for problems where:\n",
    "- **Instances are represented by attribute-value pairs**: Each instance has a fixed set of attributes (e.g., Temperature) with discrete values (e.g., Hot, Mild, Cold). Extensions allow handling real-valued attributes.\n",
    "- **The target function has discrete output values**: Decision trees typically classify instances into categories (e.g., Yes/No) but can be extended for multi-class and real-valued outputs, though the latter is less common.\n"
   ]
  },
  {
   "cell_type": "markdown",
   "id": "6742ee89-052a-4910-ba31-971d9448c7aa",
   "metadata": {},
   "source": [
    "# 4. THE BASIC DECISION TREE LEARNING ALGORITHM"
   ]
  },
  {
   "cell_type": "markdown",
   "id": "f41f52f6-8528-4c5e-a77a-cccc61207f8a",
   "metadata": {},
   "source": [
    "Decision tree learning algorithms typically use a **top-down, greedy search** approach. This method is exemplified by **ID3** and its successor **C4.5**.\n",
    "\n",
    "The **ID3** algorithm builds decision trees from the top down. It starts by choosing the best attribute to test at the root, based on how well it classifies the data. A new branch is created for each possible value of this attribute, and training examples are sorted accordingly. This process repeats for each branch, selecting the best attribute at every step. The algorithm follows a **greedy approach**, meaning it does not go back to revise previous choices. A simplified version is used for yes/no classification problems.\n"
   ]
  },
  {
   "cell_type": "markdown",
   "id": "dfe80e40-23bc-4731-a31b-14db56b595a1",
   "metadata": {},
   "source": [
    "## 4.1 Which Attribute Is the Best Classifier?"
   ]
  },
  {
   "cell_type": "markdown",
   "id": "c554cb7b-e6f0-4978-800a-215da2da539e",
   "metadata": {},
   "source": [
    "In the **ID3 algorithm**, the key decision is choosing which attribute to test at each node. The goal is to pick the attribute that best helps classify the examples. To measure this, a statistical property called **information gain** is used. It shows how well an attribute separates the training data based on their correct classifications. ID3 selects attributes with the highest information gain at each step while building the tree."
   ]
  },
  {
   "cell_type": "markdown",
   "id": "34f99d4f-d2ca-433d-bb85-11a785135be9",
   "metadata": {},
   "source": [
    "### 4.1.1 Entropy Measures Homogenity of Examples"
   ]
  },
  {
   "cell_type": "markdown",
   "id": "50766686-04db-4b7f-bf2f-b8bb74bb8852",
   "metadata": {},
   "source": [
    "To define **information gain**, we first introduce **entropy**, a concept from **information theory** that measures the impurity of a set of examples.\n",
    "For a dataset S with **positive (p+) and negative (p-)** examples, entropy is calculated as:\n",
    "\n",
    "\n",
    "$ \\text{Entropy}(S) = -(P+) \\log_2 (P+) - (P-) \\log_2 (P-) $\n"
   ]
  },
  {
   "cell_type": "markdown",
   "id": "cbfc9a40-ee86-44d4-8b3a-adc5d9eda835",
   "metadata": {},
   "source": [
    "This formula quantifies how mixed the dataset is. **Higher entropy** means more impurity (equal mix of positive and negative examples), while **lower entropy** means the data is more pure (mostly one class).\n",
    "\n",
    "Given a dataset S with **9 positive and 5 negative** examples, written as **[9+, 5-]**, the entropy is calculated using the Entropy formula\n",
    "\n",
    "where:\n",
    "- **(P+)** = $( \\frac{9}{14}$  \\)(fraction of positive examples)\n",
    "- **(P-)** = $( \\frac{5}{14}$  \\) (fraction of negative examples)\n",
    "\n",
    "Substituting the values:\n",
    "\n",
    "$ \\text{Entropy}(S) = -(P+) \\log_2 (P+) - (P-) \\log_2 (P-) $\n",
    "\n",
    "$ \\text{Entropy}(S) = -\\left( \\frac{9}{14} \\log_2 \\frac{9}{14} + \\frac{5}{14} \\log_2 \\frac{5}{14} \\right) $\n",
    "\n",
    "$ \\text{Entropy}(S) = 0.41+0.53)=0.94 $\n"
   ]
  },
  {
   "cell_type": "markdown",
   "id": "b041524c-995b-45ca-8e86-501812593bbb",
   "metadata": {},
   "source": [
    "- **Entropy measures the impurity of a dataset**:\n",
    "    - If all examples belong to the same class (pure set), entropy is 0.\n",
    "        - Example: If all instances are positive ($p+ = 1$, $p- = 0$): \n",
    "        $$ \\text{Entropy}(S) = - (1 \\log_2 1 + 0 \\log_2 0) = 0 $$\n",
    "        - Similarly, if all are negative ($p+ = 0$, $p- = 1$), entropy is also 0.\n",
    "    - If the dataset is evenly split between positive and negative (maximally impure), entropy is 1.\n",
    "        - Example: If $p+ = 0.5$, $p- = 0.5$:\n",
    "        $$ \\text{Entropy}(S) = - (0.5 \\log_2 0.5 + 0.5 \\log_2 0.5) = 1 $$\n",
    "    - For imbalanced datasets, entropy falls between 0 and 1, depending on the degree of impurity.\n"
   ]
  },
  {
   "cell_type": "markdown",
   "id": "8f5f3fb2-7da6-4b6d-ac2f-77726a66970f",
   "metadata": {},
   "source": [
    "### Simplified Explanation of the ID3 Algorithm:\n",
    "\n",
    "1. **Start by creating the root node of the tree.**\n",
    "2. **Check the training examples:**\n",
    "    - If all examples belong to the same class (all positive or all negative), return a single-node tree labeled with that class.\n",
    "    - If there are no more attributes left to test, label the node with the most common class in the examples.\n",
    "3. **Choose the best attribute** (the one that best separates the examples) and make it the decision node.\n",
    "4. **For each possible value of the chosen attribute:**\n",
    "    - Create a branch.\n",
    "    - If no examples match this value, add a leaf node labeled with the most common class.\n",
    "    - Otherwise, recursively repeat the process on the subset of examples that match this value.\n",
    "5. **Continue until all nodes are classified.**\n",
    "\n",
    "The algorithm builds the tree **top-down**, selecting the **best attribute** at each step using **information gain**.\n"
   ]
  },
  {
   "cell_type": "markdown",
   "id": "6cf9f185-5733-4234-a32b-cbde335e207e",
   "metadata": {},
   "source": [
    "### 4.1.2 Information Gain measures the expected reduction in Entropy"
   ]
  },
  {
   "cell_type": "markdown",
   "id": "bb139a16-ef9b-4498-bc4f-813e99859f64",
   "metadata": {},
   "source": [
    "### Information Gain\n",
    "\n",
    "Information gain measures how much an attribute reduces the uncertainty (entropy) in a dataset after splitting based on that attribute. It tells us how useful an attribute is for classifying data.\n",
    "\n",
    "#### Formula:\n",
    "$$ \\text{Gain}(S, A) = \\text{Entropy}(S) - \\sum_{v \\in \\text{Values}(A)} \\frac{|S_v|}{|S|} \\text{Entropy}(S_v) $$\n",
    "\n",
    "Where:\n",
    "- **Entropy(S)** = Original impurity before splitting.\n",
    "- **Values(A)** = All possible values of attribute A.\n",
    "- **Sᵥ** = Subset of S where A = v.\n",
    "- **$ \\frac{|S_v|}{|S|} $** = Proportion of data in each subset.\n",
    "- **Entropy(Sᵥ)** = Entropy of that subset.\n",
    "\n",
    "#### How It Works:\n",
    "1. **Calculate entropy of the original dataset.**\n",
    "2. **Split the dataset** based on an attribute.\n",
    "3. **Compute entropy for each subset.**\n",
    "4. **Calculate weighted average** of entropies after the split.\n",
    "5. **Subtract from original entropy** to get the information gain.\n",
    "\n",
    "Higher information gain means a better attribute because it reduces uncertainty more effectively.\n"
   ]
  },
  {
   "cell_type": "code",
   "execution_count": 19,
   "id": "44c8f9f0-f27e-4bd4-b0e0-1e1b030540bf",
   "metadata": {},
   "outputs": [
    {
     "data": {
      "text/html": [
       "<div>\n",
       "<style scoped>\n",
       "    .dataframe tbody tr th:only-of-type {\n",
       "        vertical-align: middle;\n",
       "    }\n",
       "\n",
       "    .dataframe tbody tr th {\n",
       "        vertical-align: top;\n",
       "    }\n",
       "\n",
       "    .dataframe thead th {\n",
       "        text-align: right;\n",
       "    }\n",
       "</style>\n",
       "<table border=\"1\" class=\"dataframe\">\n",
       "  <thead>\n",
       "    <tr style=\"text-align: right;\">\n",
       "      <th></th>\n",
       "      <th>Outlook</th>\n",
       "      <th>Temperature</th>\n",
       "      <th>Humidity</th>\n",
       "      <th>Wind</th>\n",
       "      <th>PlayTennis</th>\n",
       "    </tr>\n",
       "    <tr>\n",
       "      <th>Day</th>\n",
       "      <th></th>\n",
       "      <th></th>\n",
       "      <th></th>\n",
       "      <th></th>\n",
       "      <th></th>\n",
       "    </tr>\n",
       "  </thead>\n",
       "  <tbody>\n",
       "    <tr>\n",
       "      <th>D1</th>\n",
       "      <td>Sunny</td>\n",
       "      <td>Hot</td>\n",
       "      <td>High</td>\n",
       "      <td>Weak</td>\n",
       "      <td>No</td>\n",
       "    </tr>\n",
       "    <tr>\n",
       "      <th>D2</th>\n",
       "      <td>Sunny</td>\n",
       "      <td>Hot</td>\n",
       "      <td>High</td>\n",
       "      <td>Strong</td>\n",
       "      <td>No</td>\n",
       "    </tr>\n",
       "    <tr>\n",
       "      <th>D3</th>\n",
       "      <td>Overcast</td>\n",
       "      <td>Hot</td>\n",
       "      <td>High</td>\n",
       "      <td>Weak</td>\n",
       "      <td>Yes</td>\n",
       "    </tr>\n",
       "    <tr>\n",
       "      <th>D4</th>\n",
       "      <td>Rain</td>\n",
       "      <td>Mild</td>\n",
       "      <td>High</td>\n",
       "      <td>Weak</td>\n",
       "      <td>Yes</td>\n",
       "    </tr>\n",
       "    <tr>\n",
       "      <th>D5</th>\n",
       "      <td>Rain</td>\n",
       "      <td>Cool</td>\n",
       "      <td>Normal</td>\n",
       "      <td>Weak</td>\n",
       "      <td>Yes</td>\n",
       "    </tr>\n",
       "    <tr>\n",
       "      <th>D6</th>\n",
       "      <td>Rain</td>\n",
       "      <td>Cool</td>\n",
       "      <td>Normal</td>\n",
       "      <td>Strong</td>\n",
       "      <td>No</td>\n",
       "    </tr>\n",
       "    <tr>\n",
       "      <th>D7</th>\n",
       "      <td>Overcast</td>\n",
       "      <td>Cool</td>\n",
       "      <td>Normal</td>\n",
       "      <td>Strong</td>\n",
       "      <td>Yes</td>\n",
       "    </tr>\n",
       "    <tr>\n",
       "      <th>D8</th>\n",
       "      <td>Sunny</td>\n",
       "      <td>Mild</td>\n",
       "      <td>High</td>\n",
       "      <td>Weak</td>\n",
       "      <td>No</td>\n",
       "    </tr>\n",
       "    <tr>\n",
       "      <th>D9</th>\n",
       "      <td>Sunny</td>\n",
       "      <td>Cool</td>\n",
       "      <td>Normal</td>\n",
       "      <td>Weak</td>\n",
       "      <td>Yes</td>\n",
       "    </tr>\n",
       "    <tr>\n",
       "      <th>D10</th>\n",
       "      <td>Rain</td>\n",
       "      <td>Mild</td>\n",
       "      <td>Normal</td>\n",
       "      <td>Weak</td>\n",
       "      <td>Yes</td>\n",
       "    </tr>\n",
       "    <tr>\n",
       "      <th>D11</th>\n",
       "      <td>Sunny</td>\n",
       "      <td>Mild</td>\n",
       "      <td>Normal</td>\n",
       "      <td>Strong</td>\n",
       "      <td>Yes</td>\n",
       "    </tr>\n",
       "    <tr>\n",
       "      <th>D12</th>\n",
       "      <td>Overcast</td>\n",
       "      <td>Hot</td>\n",
       "      <td>High</td>\n",
       "      <td>Strong</td>\n",
       "      <td>Yes</td>\n",
       "    </tr>\n",
       "    <tr>\n",
       "      <th>D13</th>\n",
       "      <td>Overcast</td>\n",
       "      <td>Hot</td>\n",
       "      <td>Normal</td>\n",
       "      <td>Weak</td>\n",
       "      <td>Yes</td>\n",
       "    </tr>\n",
       "    <tr>\n",
       "      <th>D14</th>\n",
       "      <td>Rain</td>\n",
       "      <td>Mild</td>\n",
       "      <td>High</td>\n",
       "      <td>Strong</td>\n",
       "      <td>No</td>\n",
       "    </tr>\n",
       "  </tbody>\n",
       "</table>\n",
       "</div>"
      ],
      "text/plain": [
       "      Outlook Temperature Humidity    Wind PlayTennis\n",
       "Day                                                  \n",
       "D1      Sunny         Hot     High    Weak         No\n",
       "D2      Sunny         Hot     High  Strong         No\n",
       "D3   Overcast         Hot     High    Weak        Yes\n",
       "D4       Rain        Mild     High    Weak        Yes\n",
       "D5       Rain        Cool   Normal    Weak        Yes\n",
       "D6       Rain        Cool   Normal  Strong         No\n",
       "D7   Overcast        Cool   Normal  Strong        Yes\n",
       "D8      Sunny        Mild     High    Weak         No\n",
       "D9      Sunny        Cool   Normal    Weak        Yes\n",
       "D10      Rain        Mild   Normal    Weak        Yes\n",
       "D11     Sunny        Mild   Normal  Strong        Yes\n",
       "D12  Overcast         Hot     High  Strong        Yes\n",
       "D13  Overcast         Hot   Normal    Weak        Yes\n",
       "D14      Rain        Mild     High  Strong         No"
      ]
     },
     "execution_count": 19,
     "metadata": {},
     "output_type": "execute_result"
    }
   ],
   "source": [
    "import pandas as pd\n",
    "\n",
    "# Create the dataset as a dictionary\n",
    "data = {\n",
    "    \"Day\": [\"D1\", \"D2\", \"D3\", \"D4\", \"D5\", \"D6\", \"D7\", \"D8\", \"D9\", \"D10\", \"D11\", \"D12\", \"D13\", \"D14\"],\n",
    "    \"Outlook\": [\"Sunny\", \"Sunny\", \"Overcast\", \"Rain\", \"Rain\", \"Rain\", \"Overcast\", \"Sunny\", \"Sunny\", \"Rain\", \"Sunny\", \"Overcast\", \"Overcast\", \"Rain\"],\n",
    "    \"Temperature\": [\"Hot\", \"Hot\", \"Hot\", \"Mild\", \"Cool\", \"Cool\", \"Cool\", \"Mild\", \"Cool\", \"Mild\", \"Mild\", \"Hot\", \"Hot\", \"Mild\"],\n",
    "    \"Humidity\": [\"High\", \"High\", \"High\", \"High\", \"Normal\", \"Normal\", \"Normal\", \"High\", \"Normal\", \"Normal\", \"Normal\", \"High\", \"Normal\", \"High\"],\n",
    "    \"Wind\": [\"Weak\", \"Strong\", \"Weak\", \"Weak\", \"Weak\", \"Strong\", \"Strong\", \"Weak\", \"Weak\", \"Weak\", \"Strong\", \"Strong\", \"Weak\", \"Strong\"],\n",
    "    \"PlayTennis\": [\"No\", \"No\", \"Yes\", \"Yes\", \"Yes\", \"No\", \"Yes\", \"No\", \"Yes\", \"Yes\", \"Yes\", \"Yes\", \"Yes\", \"No\"]\n",
    "}\n",
    "\n",
    "# Create the DataFrame\n",
    "df = pd.DataFrame(data)\n",
    "df = df.set_index(\"Day\");\n",
    "\n",
    "# Display the DataFrame\n",
    "df"
   ]
  },
  {
   "cell_type": "markdown",
   "id": "1154f360-0b29-4d1a-bae5-9522ad2f336a",
   "metadata": {},
   "source": [
    "### Example: Calculating Information Gain for Attribute \"Wind\"\n",
    "\n",
    "**Given Data:**\n",
    "\n",
    "**Values(Wind) = Weak, Strong** \n",
    "- **S = 14** (total examples)\n",
    "- **S⁺ = 9** (positive examples)\n",
    "- **S⁻ = 5** (negative examples)\n",
    "- **S weak = 8** (6 positive, 2 negative)\n",
    "- **S strong = 6** (3 positive, 3 negative)\n",
    "\n",
    "---\n",
    "\n",
    "**Step 1: Compute Entropy of S**\n",
    "\n",
    "The entropy for the original set \\( S \\) is calculated as:\n",
    "$$ \\text{Entropy}(S) = -\\left(\\frac{9}{14} \\log_2 \\frac{9}{14} + \\frac{5}{14} \\log_2 \\frac{5}{14} \\right) $$\n",
    "\n",
    "Substituting the values:\n",
    "$$ \\text{Entropy}(S) = -(0.6429 \\log_2 0.6429 + 0.3571 \\log_2 0.3571) $$  \n",
    "$$ = 0.940 $$\n",
    "\n",
    "---\n",
    "\n",
    "**Step 2: Compute Entropy for $ S_{\\text{weak}} $**\n",
    "\n",
    "The entropy for the weak wind subset is:\n",
    "$$ \\text{Entropy}(S_{\\text{weak}}) = -\\left(\\frac{6}{8} \\log_2 \\frac{6}{8} + \\frac{2}{8} \\log_2 \\frac{2}{8} \\right) $$\n",
    "\n",
    "Substituting the values:\n",
    "$$ \\text{Entropy}(S_{\\text{weak}}) = -(0.75 \\log_2 0.75 + 0.25 \\log_2 0.25) $$  \n",
    "$$ = 0.811 $$\n",
    "\n",
    "---\n",
    "\n",
    "**Step 3: Compute Entropy for $ S_{\\text{strong}} $**\n",
    "\n",
    "The entropy for the strong wind subset is:\n",
    "$$ \\text{Entropy}(S_{\\text{strong}}) = -\\left(\\frac{3}{6} \\log_2 \\frac{3}{6} + \\frac{3}{6} \\log_2 \\frac{3}{6} \\right) $$\n",
    "\n",
    "Substituting the values:\n",
    "$$ \\text{Entropy}(S_{\\text{strong}}) = -(0.5 \\log_2 0.5 + 0.5 \\log_2 0.5) $$  \n",
    "$$ = 1.000 $$\n",
    "\n",
    "---\n",
    "\n",
    "**Step 4: Compute Weighted Entropy after Splitting by Wind**\n",
    "\n",
    "The weighted entropy after splitting by wind is:\n",
    "$$ \\text{Weighted\\_Entropy} = \\left(\\frac{8}{14} \\times 0.811 \\right) + \\left(\\frac{6}{14} \\times 1.000 \\right) $$  \n",
    "$$ = (0.571 \\times 0.811) + (0.429 \\times 1.000) $$  \n",
    "$$ = 0.892 $$\n",
    "\n",
    "---\n",
    "\n",
    "**Step 5: Compute Information Gain for Wind**\n",
    "\n",
    "Finally, the information gain for the attribute \"Wind\" is:\n",
    "$$ \\text{Gain}(S, \\text{Wind}) = \\text{Entropy}(S) - \\text{Weighted\\_Entropy} $$  \n",
    "$$ = 0.940 - 0.892 $$  \n",
    "$$ = 0.048 $$\n",
    "\n",
    "Thus, the information gain for splitting on Wind is **0.048**.\n",
    "\n",
    "---\n",
    "Similarly Caliculate Information Gain for each attribute:\n",
    "1. **Gain for Humidity**:\n",
    "\n",
    "$$\n",
    "\\text{Gain}(S, \\text{Humidity}) = 0.151\n",
    "$$\n",
    "\n",
    "2. **Gain for Temperature**:\n",
    "\n",
    "$$\n",
    "\\text{Gain}(S, \\text{Temperature}) = 0.029\n",
    "$$\n",
    "\n",
    "3. **Gain for Outlook**:\n",
    "\n",
    "$$\n",
    "\\text{Gain}(S, \\text{Outlook}) = 0.246\n",
    "$$\n",
    "\n",
    "4. **Gain for Wind**:\n",
    "\n",
    "$$ \\text{Gain}(S, \\text{Wind}) = 0.048\\text{( previous example)} $$\n",
    "\n",
    "\n",
    "---\n"
   ]
  },
  {
   "cell_type": "markdown",
   "id": "d37326a2-baba-4890-b9b8-6d4e78787f86",
   "metadata": {},
   "source": [
    "We can clearly observe that **IG(S, Outlook)** has the highest information gain of **0.246**, which makes **Outlook** the best choice for the root node. At this point, the decision tree looks like this:"
   ]
  },
  {
   "cell_type": "code",
   "execution_count": 23,
   "id": "ef58a9cc-11cd-46f0-956f-2bfb41aedf0e",
   "metadata": {},
   "outputs": [
    {
     "data": {
      "image/png": "[encoded data removed]",
      "text/plain": [
       "<IPython.core.display.Image object>"
      ]
     },
     "execution_count": 23,
     "metadata": {},
     "output_type": "execute_result"
    }
   ],
   "source": [
    "from IPython.display import Image\n",
    "\n",
    "# Display an image\n",
    "Image(filename='./images/DT1.png')"
   ]
  },
  {
   "cell_type": "markdown",
   "id": "373be16c-6247-4ea2-a363-ed14679c73f3",
   "metadata": {},
   "source": [
    "Observe that every example where **Outlook = Overcast** is also a positive example for **PlayTennis**. As a result, this node in the tree becomes a leaf node with the classification **PlayTennis = Yes**. In contrast, the branches corresponding to **Outlook = Sunny** and **Outlook = Rain**, these subsets still contain a mix of classifications (both Yes and No for PlayTennis),have nonzero entropy so further splitting is necessary on these branches."
   ]
  },
  {
   "cell_type": "markdown",
   "id": "d2029c3f-df9e-4cec-bd42-8c3ad99022cd",
   "metadata": {},
   "source": [
    "The process of choosing a new attribute and splitting the training examples is repeated for each non-terminal node. This time, we only consider the training examples that reach that specific node. Attributes that were already used higher up in the tree are ignored, ensuring that each attribute appears only once along any path. \n",
    "\n",
    "This process continues until one of these two conditions is met:\n",
    "\n",
    "1. All attributes have already been used along this path.\n",
    "2. The training examples at the leaf node all have the same target value (meaning their entropy is zero)."
   ]
  },
  {
   "cell_type": "markdown",
   "id": "63c7a408-a687-40ab-8256-449549ffbe82",
   "metadata": {},
   "source": [
    "Let's compute the final results for Gain(S_sunny, Humidity), Gain(S_sunny, Temperature), and Gain(S_sunny, Wind).\n",
    "#### 1. **Gain(S_sunny, Humidity)**\n",
    "\n",
    "$$\n",
    "\\text{Gain}(S_{\\text{sunny}}, \\text{Humidity}) = 0.970 - \\left( \\frac{3}{5} \\times 0.0 + \\frac{2}{5} \\times 0.0 \\right) = 0.970\n",
    "$$\n",
    "\n",
    "---\n",
    "\n",
    "#### 2. **Gain(S_sunny, Temperature)**\n",
    "\n",
    "$$\n",
    "\\text{Gain}(S_{\\text{sunny}}, \\text{Temperature}) = 0.970 - \\left( \\frac{2}{5} \\times 0.0 + \\frac{2}{5} \\times 1.0 + \\frac{1}{5} \\times 0.0 \\right) = 0.570\n",
    "$$\n",
    "\n",
    "---\n",
    "\n",
    "#### 3. **Gain(S_sunny, Wind)**\n",
    "\n",
    "$$\n",
    "\\text{Gain}(S_{\\text{sunny}}, \\text{Wind}) = 0.970 - \\left( \\frac{2}{5} \\times 1.0 + \\frac{3}{5} \\times 0.918 \\right) =  0.0192\n",
    "$$\n"
   ]
  },
  {
   "cell_type": "markdown",
   "id": "97bc550d-9e73-414c-80e2-bfbb684dc6e5",
   "metadata": {},
   "source": [
    "Since Humidity has the highest information gain (0.970), it is chosen as the next splitting attribute. The Rain node still needs further splitting"
   ]
  },
  {
   "cell_type": "markdown",
   "id": "fe422907-b565-43f0-aa3b-de9289a56597",
   "metadata": {},
   "source": [
    "If we calculate the **information gain** for **Wind** and **Humidity** within the **Rain** subset:\n",
    "\n",
    "$$ \\text{Gain}(Rain, Wind) = 0.971 \\quad (\\text{Highest}) $$\n",
    "\n",
    "$$ \\text{Gain}(Rain, Humidity) = 0.020 $$\n",
    "\n",
    "Since **Wind** has the highest gain, we split **Rain** based on **Wind**.\n"
   ]
  },
  {
   "cell_type": "markdown",
   "id": "8daeb6eb-8df1-4b67-8fe4-7e294f247a31",
   "metadata": {},
   "source": [
    "### Final Decision Tree"
   ]
  },
  {
   "cell_type": "code",
   "execution_count": 25,
   "id": "290d664f-0657-42ab-b678-020c3573ec7f",
   "metadata": {},
   "outputs": [
    {
     "data": {
      "image/png": "[encoded data removed]",
      "text/plain": [
       "<IPython.core.display.Image object>"
      ]
     },
     "execution_count": 25,
     "metadata": {},
     "output_type": "execute_result"
    }
   ],
   "source": [
    "Image(filename='./images/DT2.png')"
   ]
  },
  {
   "cell_type": "markdown",
   "id": "9c9d2641-519b-426b-907e-9b92a1886033",
   "metadata": {},
   "source": [
    "# 5. HYPOTHESIS SPACE SEARCH IN DECISION TREE LEARNING"
   ]
  },
  {
   "cell_type": "markdown",
   "id": "dddfd636-1f4b-4406-8f02-2847f68389cd",
   "metadata": {},
   "source": [
    "ID3, like other inductive learning algorithms, can be viewed as searching through a **hypothesis space** for the best hypothesis that fits the given training data. In the context of ID3, this hypothesis space consists of all possible **decision trees** that could be constructed from the available attributes.\n",
    "\n",
    "#### Search Strategy: Simple-to-Complex\n",
    "\n",
    "ID3 uses a **hill-climbing search strategy**, where the algorithm starts with the simplest possible hypothesis (an empty tree) and gradually considers more complex hypotheses. The goal is to find a decision tree that correctly classifies the training examples. This process involves evaluating the current decision tree and selecting attributes based on the **information gain** measure, which guides the search for the most effective hypothesis. The search process proceeds from the simplest tree to more complex trees.\n",
    "\n",
    "The search strategy follows a **simple-to-complex** approach. It does not exhaustively explore all possible hypotheses but incrementally builds a tree by selecting the most promising attributes at each step.\n",
    "\n",
    "#### Evaluation Function: Information Gain\n",
    "\n",
    "The evaluation function driving the search is the **information gain measure**. Information gain helps ID3 select the most relevant attribute at each level of the decision tree, and this selection process is central to the algorithm’s decision-making. By choosing the attribute with the highest information gain, ID3 aims to create a tree that partitions the training examples in the most informative way.\n",
    "\n",
    "#### Limitation: No Backtracking\n",
    "\n",
    "One key limitation of the basic ID3 algorithm is its **lack of backtracking**. Once ID3 selects an attribute to test at a particular node, it does not reconsider that choice or explore alternative paths in the search space. This characteristic makes ID3 susceptible to **locally optimal solutions** — trees that may be good based on the current path but suboptimal when considering the overall problem.\n",
    "\n",
    "For instance, ID3 might settle on a decision tree that appears to be optimal at each individual step, but in the broader search space, there may exist a better decision tree that was never explored due to the lack of backtracking. This is one of the risks of using a **hill-climbing** search without backtracking.\n",
    "\n",
    "#### Extending ID3: Post-Pruning\n",
    "\n",
    "A potential solution to the problem of local optima in ID3 is to introduce a form of **backtracking** known as **post-pruning**. This involves initially allowing ID3 to construct the full tree and then later trimming or simplifying parts of the tree to improve its performance, such as handling noise or preventing overfitting. Post-pruning helps avoid overfitting to the training data by making the decision tree more general and robust."
   ]
  },
  {
   "cell_type": "markdown",
   "id": "8c91d863-b4e5-43de-acb0-ffd05705f3c6",
   "metadata": {},
   "source": [
    "### Summary of hypothesis space search"
   ]
  },
  {
   "cell_type": "markdown",
   "id": "fd1b9320-3843-4a74-a379-f2281eea880c",
   "metadata": {},
   "source": [
    "ID3 searches through the **hypothesis space of all possible decision trees** by making **greedy decisions** at each step. The final tree represents a **single hypothesis** about the target concept (PlayTennis). \n",
    "\n",
    "Since ID3 does not explore all possible trees, **it finds a good solution but not necessarily the best one**. The search process is **guided by information gain**, ensuring that each decision reduces entropy and leads to a more refined classification."
   ]
  },
  {
   "cell_type": "markdown",
   "id": "8852be8a-b58c-41ba-be8e-9e920fefdf57",
   "metadata": {},
   "source": [
    "# 6. INDUCTIVE BIAS IN DECISION TREE LEARNING"
   ]
  },
  {
   "cell_type": "markdown",
   "id": "195c8491-e851-4221-a65b-baf40ac3ea5f",
   "metadata": {},
   "source": [
    "ID3 (Iterative Dichotomiser 3) is a decision tree algorithm that employs a greedy, hill-climbing search strategy to build decision trees from training examples. The core idea behind ID3 is to generalize from the observed training examples and classify unseen instances based on the inductive bias it exhibits.\n",
    "\n",
    "### Inductive Bias of ID3\n",
    "\n",
    "Inductive bias refers to the set of assumptions that the learning algorithm makes about how to generalize from the training data to unseen instances. For ID3, the inductive bias can be understood as the algorithm's preference for certain types of decision trees when there are multiple trees that are consistent with the training data.\n",
    "\n",
    "1. **Preference for Shorter Trees:**\n",
    "   - The main inductive bias of ID3 is its preference for **shorter decision trees**. This means that ID3 will prefer decision trees with fewer nodes, even if they are not necessarily the absolute shortest possible tree.\n",
    "   - The algorithm operates by searching through progressively more complex decision trees but tends to stop as soon as it finds a tree that classifies all training examples correctly. ID3 does not perform a full breadth-first search for the shortest tree, which would consider all trees of depth 1, depth 2, etc., in order to select the one with the fewest nodes.\n",
    "   - While ID3 does not guarantee the absolute shortest tree, it aims for simplicity by selecting the first \"acceptable\" tree it encounters. \n",
    "\n",
    "2. **Preference for High Information Gain at the Root:**\n",
    "   - ID3 uses the **information gain** heuristic to select attributes. It chooses the attribute that provides the highest information gain (i.e., the attribute that best splits the data) to be placed closest to the root of the tree.\n",
    "   - This means that ID3 is biased toward **trees that place high information gain attributes near the root** of the tree, leading to a more efficient split of the data at the top levels of the tree.\n",
    "\n",
    "3. **Hill-Climbing Search:**\n",
    "   - ID3 uses a **greedy hill-climbing search** to build the tree, meaning it iteratively chooses the best attribute based on the information gain heuristic and continues to build the tree in a top-down manner. This strategy may not always find the globally optimal tree, but it strives to find an acceptable tree efficiently.\n",
    "   - The algorithm's focus on information gain and the greedy approach means that ID3 may prioritize a tree structure that is \"good enough\" for the training data rather than exploring all possible trees that fit the data.\n",
    "\n",
    "### Comparison to BFS-ID3\n",
    "\n",
    "To better understand ID3's inductive bias, we can compare it to a hypothetical algorithm called **BFS-ID3** (Breadth-First Search ID3). This algorithm would perform a breadth-first search, considering trees of increasing depth, and return the **smallest consistent tree** at each level of search. The inductive bias of BFS-ID3 is clearer and more explicit: **shorter trees are preferred over longer trees**.\n",
    "\n",
    "However, ID3 is more efficient than BFS-ID3 because it does not perform a full breadth-first search. Instead, it uses a greedy search strategy to find a reasonably small decision tree quickly. Although this does not guarantee the shortest tree, it reflects the same general preference for simpler trees.\n",
    "\n",
    "### Final Inductive Bias of ID3\n",
    "\n",
    "The inductive bias of ID3 can be summarized as follows:\n",
    "- **Shorter trees** are preferred over more complex, longer trees.\n",
    "- **Attributes with higher information gain** are preferred closer to the root, reflecting the importance of efficient attribute selection early in the decision tree.\n",
    "\n",
    "In essence, ID3 prefers decision trees that are both simple (with fewer nodes) and efficient in terms of attribute selection (placing high information gain attributes at the top). However, due to the heuristic search and lack of full exploration of the hypothesis space, ID3 might not always produce the shortest or most optimal decision tree."
   ]
  },
  {
   "cell_type": "markdown",
   "id": "29d12001-bbfb-4ccc-90b3-5bd2180c0077",
   "metadata": {},
   "source": [
    "## 6.1 Restriction Biases and Preference Biases"
   ]
  },
  {
   "cell_type": "markdown",
   "id": "e4e81639-a931-4b4d-902b-2c7c5830c9a9",
   "metadata": {},
   "source": [
    "The comparison between the **ID3 algorithm** and the **CANDIDATE-ELIMINATION algorithm** illustrates a key distinction in how inductive bias shapes learning and the types of hypotheses these algorithms can produce. Let’s break this down and analyze the difference between **preference bias** (as exhibited by ID3) and **restriction bias** (as seen in CANDIDATE-ELIMINATION).\n",
    "\n",
    "### 1. **Inductive Bias in ID3: Preference Bias**\n",
    "\n",
    "ID3 operates by searching through a **complete hypothesis space**, meaning it is capable of representing any finite discrete-valued function. This hypothesis space is unrestricted in terms of what kinds of decision trees it can generate, but ID3 does not search through the entire space. It employs a **greedy search strategy** to find a hypothesis (i.e., a decision tree) that is consistent with the training data. \n",
    "\n",
    "- **Search Strategy:** ID3 starts with simple trees and moves toward more complex ones, selecting trees that are simpler and that place the most informative attributes (in terms of information gain) closer to the root.\n",
    "- **Inductive Bias:** The inductive bias of ID3 arises from the **search strategy**, which prefers shorter, simpler trees with attributes of higher information gain near the root. However, there is **no explicit restriction** on the kinds of trees that can be generated. ID3's hypothesis space is large and flexible, and its bias comes from the way it navigates this space.\n",
    "- **Type of Bias:** This bias is termed a **preference bias** (or **search bias**) because it biases the search process toward certain kinds of hypotheses (simpler, information-rich trees), without excluding other potential hypotheses. Essentially, it \"prefers\" certain trees over others, but does not explicitly rule out any possible hypothesis.\n",
    "\n",
    "### 2. **Inductive Bias in CANDIDATE-ELIMINATION: Restriction Bias**\n",
    "\n",
    "The CANDIDATE-ELIMINATION algorithm, on the other hand, operates in a **restricted hypothesis space**. This algorithm is typically used in situations where you have a **version space**: a set of all hypotheses that are consistent with the training data. The hypothesis space in CANDIDATE-ELIMINATION is inherently limited—it only includes hypotheses that can be expressed by the language or representation used by the algorithm (e.g., a specific class of decision trees or rule sets).\n",
    "\n",
    "- **Search Strategy:** CANDIDATE-ELIMINATION exhaustively searches through this restricted hypothesis space, identifying all hypotheses that are consistent with the training data. \n",
    "- **Inductive Bias:** The inductive bias in this case comes from the **expressive power** of the hypothesis representation. By restricting the search space to a particular subset of hypotheses (e.g., only considering hypotheses that are expressible in a certain form), it imposes a **categorical restriction** on the kinds of hypotheses that can be considered.\n",
    "- **Type of Bias:** This type of bias is termed a **restriction bias** (or **language bias**) because it **limits the possible hypotheses** the algorithm can generate. If the target concept lies outside the representable hypothesis space, the algorithm may fail to find it, even if it is consistent with the training data.\n",
    "\n",
    "### 3. **Preference Bias vs. Restriction Bias: Which is More Desirable?**\n",
    "\n",
    "Given the need for inductive bias in order to generalize beyond training data, we can ask which type of bias is preferable: **preference bias** (as in ID3) or **restriction bias** (as in CANDIDATE-ELIMINATION).\n",
    "\n",
    "- **Preference Bias (ID3):** Preference bias is generally more desirable because it allows the learning system to search within a **complete hypothesis space**, which ensures that the unknown target function can be represented somewhere in the space. The inductive bias merely influences the search for a good hypothesis, but it does not limit the search to a specific subset of possible hypotheses.\n",
    "    - **Pros:** Flexibility in exploring a large set of potential hypotheses; allows the system to adapt to a wider range of functions.\n",
    "    - **Cons:** It could lead to suboptimal solutions if the greedy search is trapped in a local optimum, but overall it ensures that no possible target function is excluded.\n",
    "\n",
    "- **Restriction Bias (CANDIDATE-ELIMINATION):** Restriction bias is less desirable because it imposes a strict **categorical limitation** on the set of hypotheses considered. If the hypothesis space is too restrictive, there is a risk of **excluding the target concept altogether**, even if it fits the training data. \n",
    "    - **Pros:** It can provide a more structured search, and if the hypothesis space is appropriately chosen, it may be more efficient than searching through an unbounded space.\n",
    "    - **Cons:** It excludes hypotheses that fall outside the restricted space, which could be problematic if the true target concept is not represented within the restricted space.\n",
    "\n",
    "### Conclusion\n",
    "\n",
    "- **Preference bias** (like in ID3) is often more desirable because it allows for flexibility and exploration of a complete hypothesis space, thus ensuring that the true target concept can be found.\n",
    "- **Restriction bias** (like in CANDIDATE-ELIMINATION) is less desirable unless the restricted hypothesis space is carefully chosen to match the target concept. It can risk excluding the true function from the hypothesis space, limiting the system's ability to generalize effectively.\n",
    "\n",
    "In practice, combining both types of bias can be useful, depending on the context and the learning task."
   ]
  },
  {
   "cell_type": "markdown",
   "id": "850ad1a6-10c3-4f08-bd37-9b40f76305ca",
   "metadata": {},
   "source": [
    "## 6.2 Why Prefer Simple Hypotheses? (Occam’s Razor and ID3)\n",
    "\n",
    "ID3 tends to favor shorter decision trees when learning from data. But is choosing simpler models really the best approach for generalization? This question has sparked debate for centuries.\n",
    "\n",
    "### Occam’s Razor\n",
    "**\"Prefer the simplest hypothesis that fits the data.\"**\n",
    "\n",
    "Scientists often follow this principle—physicists, for instance, favor simpler explanations for complex phenomena, like planetary motion, rather than more complicated ones.\n",
    "\n",
    "### Why Simpler Hypotheses Might Be Better\n",
    "\n",
    "1. **Fewer Simple Models Exist**\n",
    "   - There are far fewer short decision trees than long, complex ones.\n",
    "   - If a simple tree fits the training data, it’s less likely to be a random coincidence.\n",
    "   - On the other hand, many complex trees can fit the training data but may fail to perform well on new, unseen data.\n",
    "\n",
    "2. **Avoiding Overfitting**\n",
    "   - A highly complex tree (e.g., with 500 nodes) may simply memorize the training data, but this makes it less likely to generalize to new data.\n",
    "   - A simpler tree (e.g., with 5 nodes) that fits the data well is more likely to be capturing meaningful patterns rather than fitting to noise or outliers in the data."
   ]
  },
  {
   "cell_type": "code",
   "execution_count": null,
   "id": "76152377-aa76-4695-bf83-7a1f6cbb2940",
   "metadata": {},
   "outputs": [],
   "source": []
  }
 ],
 "metadata": {
  "kernelspec": {
   "display_name": "Python [conda env:base] *",
   "language": "python",
   "name": "conda-base-py"
  },
  "language_info": {
   "codemirror_mode": {
    "name": "ipython",
    "version": 3
   },
   "file_extension": ".py",
   "mimetype": "text/x-python",
   "name": "python",
   "nbconvert_exporter": "python",
   "pygments_lexer": "ipython3",
   "version": "3.12.7"
  }
 },
 "nbformat": 4,
 "nbformat_minor": 5
}
